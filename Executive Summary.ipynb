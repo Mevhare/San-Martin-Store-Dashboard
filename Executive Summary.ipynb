{
 "cells": [
  {
   "cell_type": "markdown",
   "id": "ed5980f4",
   "metadata": {},
   "source": [
    "# San Martin Stores\n",
    "## Executive Summary\n",
    "\n",
    "San Martins Stores had a successful month in January 2021, generating €39,202,000 in sales and received over 14,000 orders with an average order value of €2,788.42. The average profit margin for each sale was 28.39%. The total cost incurred was €28,071,000 but the resulting profit was  €11,131,000. We recorded 6,954 customers across all stores and regions.\n",
    "\n",
    "However, there are areas for improvement, it was observed that the amount generated from sales dropped from the second week of January till the end of the month.\n",
    "\n",
    "The Castilla y Leon region is where 44.6% of our customers are and the store with the most sales recorded is Tienda Pueyo de Araguas, El in the Aragon region. Tereul is the highest paying province amounting €3,247,815.52 in sales and next in line was Salamanca with € 1,962,036.04 The Tereul province had the highest number of customers (1071) which makes up 15.4% of all customers in January. This is because Tereul had the most stores (12) while other provinces had less than 9 stores.  \n",
    "Unsurprisingly, All agents make most sales in Tureul. The highest performing agent was Juanito Pacheco Quintero and the least performing agent was Eduardo del Azcona during the time period.\n",
    "\n",
    "It is also observed that the highest selling product category (Carretera) had the lowest profit margin of 13%, while Plegables had the highest profit margin of 40%, followed by Cicloturismo (36%) and Indoor (32%).\n",
    "\n",
    "Based on the above findings, some recommendations include:\n",
    "1.\tInvestigate the reason for the drop in sales from the second week of January till the end of the month and take necessary action.\n",
    "2.\tIncrease the promotion and marketing of the Plegables product category as it has the highest profit margin of 40%.\n",
    "3.\tInvest in increasing the number of stores and advertising in other regions to increase our reach.\n",
    "4.\tProvide additional training and support to the least performing agent, Eduardo del Azcona, to improve his performance.\n",
    "5.\tStudy the sales strategies and practices of Tienda Pueyo de Araguas, El and replicate them in other stores.\n",
    "\n"
   ]
  }
 ],
 "metadata": {
  "hide_input": false,
  "kernelspec": {
   "display_name": "Python 3 (ipykernel)",
   "language": "python",
   "name": "python3"
  },
  "language_info": {
   "codemirror_mode": {
    "name": "ipython",
    "version": 3
   },
   "file_extension": ".py",
   "mimetype": "text/x-python",
   "name": "python",
   "nbconvert_exporter": "python",
   "pygments_lexer": "ipython3",
   "version": "3.9.15"
  },
  "toc": {
   "base_numbering": 1,
   "nav_menu": {},
   "number_sections": true,
   "sideBar": true,
   "skip_h1_title": false,
   "title_cell": "Table of Contents",
   "title_sidebar": "Contents",
   "toc_cell": false,
   "toc_position": {},
   "toc_section_display": true,
   "toc_window_display": false
  }
 },
 "nbformat": 4,
 "nbformat_minor": 5
}
